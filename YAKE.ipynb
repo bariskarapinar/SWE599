{
 "cells": [
  {
   "cell_type": "code",
   "execution_count": 1,
   "id": "82b8f455",
   "metadata": {},
   "outputs": [
    {
     "name": "stdout",
     "output_type": "stream",
     "text": [
      "\u001b[33mWARNING: The directory '/Users/bariskarapinar/Library/Caches/pip' or its parent directory is not owned or is not writable by the current user. The cache has been disabled. Check the permissions and owner of that directory. If executing pip with sudo, you should use sudo's -H flag.\u001b[0m\u001b[33m\n",
      "\u001b[0mRequirement already satisfied: yake in /opt/homebrew/lib/python3.10/site-packages (0.4.8)\n",
      "Requirement already satisfied: segtok in /opt/homebrew/lib/python3.10/site-packages (from yake) (1.5.11)\n",
      "Requirement already satisfied: tabulate in /opt/homebrew/lib/python3.10/site-packages (from yake) (0.9.0)\n",
      "Requirement already satisfied: numpy in /opt/homebrew/lib/python3.10/site-packages (from yake) (1.23.5)\n",
      "Requirement already satisfied: click>=6.0 in /opt/homebrew/lib/python3.10/site-packages (from yake) (8.1.3)\n",
      "Requirement already satisfied: networkx in /opt/homebrew/lib/python3.10/site-packages (from yake) (2.8.8)\n",
      "Requirement already satisfied: jellyfish in /opt/homebrew/lib/python3.10/site-packages (from yake) (0.9.0)\n",
      "Requirement already satisfied: regex in /opt/homebrew/lib/python3.10/site-packages (from segtok->yake) (2022.10.31)\n"
     ]
    }
   ],
   "source": [
    "!pip3 install yake"
   ]
  },
  {
   "cell_type": "code",
   "execution_count": 2,
   "id": "10e7857a",
   "metadata": {},
   "outputs": [],
   "source": [
    "import yake\n",
    "kw_extractor = yake.KeywordExtractor()"
   ]
  },
  {
   "cell_type": "code",
   "execution_count": 3,
   "id": "a215d74a",
   "metadata": {},
   "outputs": [],
   "source": [
    "doc = 'The Seventh-day Adventist Church in Tonga, (Tongan: Siasi ʻAhofitu)\\\n",
    "is one of the smaller religious groups in the South Pacific island \\\n",
    "state of Tonga with a reported 3,853 members as of June 30, 2020, \\\n",
    "started by Seventh-day Adventist missionaries from the United States \\\n",
    "who visited in 1891 and settled in 1895. They set up schools but made \\\n",
    "very little progress in conversion, handicapped by dietary rules that \\\n",
    "prohibited popular local foods such as pork and shellfish, and that \\\n",
    "also banned tobacco, alcohol and kava. The church was revitalized \\\n",
    "in 1912 with renewed emphasis on evangelism. In 1922 it resumed its \\\n",
    "strategy of providing education, which resulted in an increase in \\\n",
    "conversions. After keeping a low profile during World War II (1939–45),\\\n",
    "the church grew quickly from 1950 to the 1970s. However, membership \\\n",
    "subsequently declined due to emigration and competition with other \\\n",
    "churches. The SDA of Tonga is part of the South Pacific Division of \\\n",
    "Seventh-day Adventists. It operates several schools in Tonga, \\\n",
    "and provides opportunities for further studies at \\\n",
    "Adventist institutions abroad.'"
   ]
  },
  {
   "cell_type": "code",
   "execution_count": 4,
   "id": "a31a63ed",
   "metadata": {},
   "outputs": [
    {
     "name": "stdout",
     "output_type": "stream",
     "text": [
      "('Tongan', 0.052768189107465974)\n",
      "('Siasi', 0.05982960867548507)\n",
      "('June', 0.05982960867548507)\n",
      "('Seventh-day', 0.07494406216119517)\n",
      "('Church', 0.0926999639092851)\n"
     ]
    }
   ],
   "source": [
    "language = \"en\"\n",
    "n_max_size = 1\n",
    "deduplication_threshold = 0.2\n",
    "numOfKeywords = 5\n",
    "custom_kw_extractor = yake.KeywordExtractor(lan=language, n=n_max_size, dedupLim=deduplication_threshold, top=numOfKeywords, features=None)\n",
    "keywords = custom_kw_extractor.extract_keywords(doc)\n",
    "for kw in keywords:\n",
    "    print(kw)"
   ]
  },
  {
   "cell_type": "code",
   "execution_count": null,
   "id": "73b4853e",
   "metadata": {},
   "outputs": [],
   "source": []
  }
 ],
 "metadata": {
  "kernelspec": {
   "display_name": "Python 3 (ipykernel)",
   "language": "python",
   "name": "python3"
  },
  "language_info": {
   "codemirror_mode": {
    "name": "ipython",
    "version": 3
   },
   "file_extension": ".py",
   "mimetype": "text/x-python",
   "name": "python",
   "nbconvert_exporter": "python",
   "pygments_lexer": "ipython3",
   "version": "3.8.2"
  }
 },
 "nbformat": 4,
 "nbformat_minor": 5
}
