{
 "cells": [
  {
   "cell_type": "code",
   "execution_count": null,
   "id": "eb36179d",
   "metadata": {},
   "outputs": [],
   "source": [
    "!pip3 install ipywidgets --user\n",
    "\n",
    "import spacy"
   ]
  },
  {
   "cell_type": "code",
   "execution_count": null,
   "id": "ec04ad97",
   "metadata": {},
   "outputs": [],
   "source": [
    "!python3 -m spacy download en_core_web_lg"
   ]
  },
  {
   "cell_type": "code",
   "execution_count": null,
   "id": "e1878293",
   "metadata": {},
   "outputs": [],
   "source": [
    "!pip3 install rake-spacy"
   ]
  },
  {
   "cell_type": "code",
   "execution_count": null,
   "id": "4d659e05",
   "metadata": {},
   "outputs": [],
   "source": [
    "from rake_spacy import Rake\n",
    "import spacy\n",
    "\n",
    "r = Rake()\n",
    "doc = 'The Seventh-day Adventist Church in Tonga, (Tongan: Siasi ʻAhofitu)\\\n",
    "is one of the smaller religious groups in the South Pacific island \\\n",
    "state of Tonga with a reported 3,853 members as of June 30, 2020, \\\n",
    "started by Seventh-day Adventist missionaries from the United States \\\n",
    "who visited in 1891 and settled in 1895. They set up schools but made \\\n",
    "very little progress in conversion, handicapped by dietary rules that \\\n",
    "prohibited popular local foods such as pork and shellfish, and that \\\n",
    "also banned tobacco, alcohol and kava. The church was revitalized \\\n",
    "in 1912 with renewed emphasis on evangelism. In 1922 it resumed its \\\n",
    "strategy of providing education, which resulted in an increase in \\\n",
    "conversions. After keeping a low profile during World War II (1939–45),\\\n",
    "the church grew quickly from 1950 to the 1970s. However, membership \\\n",
    "subsequently declined due to emigration and competition with other \\\n",
    "churches. The SDA of Tonga is part of the South Pacific Division of \\\n",
    "Seventh-day Adventists. It operates several schools in Tonga, \\\n",
    "and provides opportunities for further studies at \\\n",
    "Adventist institutions abroad.'\n",
    "\n",
    "ranklist = r.apply(doc)\n",
    "print(ranklist)"
   ]
  },
  {
   "cell_type": "code",
   "execution_count": null,
   "id": "79f81b72",
   "metadata": {},
   "outputs": [],
   "source": []
  }
 ],
 "metadata": {
  "kernelspec": {
   "display_name": "Python 3 (ipykernel)",
   "language": "python",
   "name": "python3"
  },
  "language_info": {
   "codemirror_mode": {
    "name": "ipython",
    "version": 3
   },
   "file_extension": ".py",
   "mimetype": "text/x-python",
   "name": "python",
   "nbconvert_exporter": "python",
   "pygments_lexer": "ipython3",
   "version": "3.8.2"
  }
 },
 "nbformat": 4,
 "nbformat_minor": 5
}
