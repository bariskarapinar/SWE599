{
 "cells": [
  {
   "cell_type": "code",
   "execution_count": 1,
   "id": "39172a0c",
   "metadata": {},
   "outputs": [
    {
     "name": "stdout",
     "output_type": "stream",
     "text": [
      "\u001b[33mWARNING: The directory '/Users/bariskarapinar/Library/Caches/pip' or its parent directory is not owned or is not writable by the current user. The cache has been disabled. Check the permissions and owner of that directory. If executing pip with sudo, you should use sudo's -H flag.\u001b[0m\u001b[33m\n",
      "\u001b[0mDefaulting to user installation because normal site-packages is not writeable\n",
      "Requirement already satisfied: nltk in /Users/bariskarapinar/Library/Python/3.8/lib/python/site-packages (3.7)\n",
      "Requirement already satisfied: joblib in /Users/bariskarapinar/Library/Python/3.8/lib/python/site-packages (from nltk) (1.2.0)\n",
      "Requirement already satisfied: tqdm in /Users/bariskarapinar/Library/Python/3.8/lib/python/site-packages (from nltk) (4.64.1)\n",
      "Requirement already satisfied: click in /Users/bariskarapinar/Library/Python/3.8/lib/python/site-packages (from nltk) (8.1.3)\n",
      "Requirement already satisfied: regex>=2021.8.3 in /Users/bariskarapinar/Library/Python/3.8/lib/python/site-packages (from nltk) (2022.10.31)\n",
      "Note: you may need to restart the kernel to use updated packages.\n"
     ]
    }
   ],
   "source": [
    "pip install nltk"
   ]
  },
  {
   "cell_type": "code",
   "execution_count": 2,
   "id": "b5d5d04c",
   "metadata": {},
   "outputs": [],
   "source": [
    "import nltk"
   ]
  },
  {
   "cell_type": "code",
   "execution_count": 3,
   "id": "268ab17a",
   "metadata": {},
   "outputs": [],
   "source": [
    "from nltk import tokenize\n",
    "from operator import itemgetter\n",
    "import math"
   ]
  },
  {
   "cell_type": "code",
   "execution_count": 17,
   "id": "2035d749",
   "metadata": {},
   "outputs": [],
   "source": [
    "doc = 'The Seventh-day Adventist Church in Tonga, (Tongan: Siasi ʻAhofitu)\\\n",
    "is one of the smaller religious groups in the South Pacific island \\\n",
    "state of Tonga with a reported 3,853 members as of June 30, 2020, \\\n",
    "started by Seventh-day Adventist missionaries from the United States \\\n",
    "who visited in 1891 and settled in 1895. They set up schools but made \\\n",
    "very little progress in conversion, handicapped by dietary rules that \\\n",
    "prohibited popular local foods such as pork and shellfish, and that \\\n",
    "also banned tobacco, alcohol and kava. The church was revitalized \\\n",
    "in 1912 with renewed emphasis on evangelism. In 1922 it resumed its \\\n",
    "strategy of providing education, which resulted in an increase in \\\n",
    "conversions. After keeping a low profile during World War II (1939–45),\\\n",
    "the church grew quickly from 1950 to the 1970s. However, membership \\\n",
    "subsequently declined due to emigration and competition with other \\\n",
    "churches. The SDA of Tonga is part of the South Pacific Division of \\\n",
    "Seventh-day Adventists. It operates several schools in Tonga, \\\n",
    "and provides opportunities for further studies at \\\n",
    "Adventist institutions abroad.'"
   ]
  },
  {
   "cell_type": "code",
   "execution_count": 5,
   "id": "e477421c",
   "metadata": {},
   "outputs": [],
   "source": [
    "import nltk\n",
    "from nltk.corpus import stopwords\n",
    "from nltk.tokenize import word_tokenize \n",
    "stop_words = set(stopwords.words('english'))"
   ]
  },
  {
   "cell_type": "code",
   "execution_count": 6,
   "id": "d7311408",
   "metadata": {},
   "outputs": [
    {
     "name": "stderr",
     "output_type": "stream",
     "text": [
      "[nltk_data] Downloading package stopwords to\n",
      "[nltk_data]     /Users/bariskarapinar/nltk_data...\n",
      "[nltk_data]   Package stopwords is already up-to-date!\n"
     ]
    },
    {
     "data": {
      "text/plain": [
       "True"
      ]
     },
     "execution_count": 6,
     "metadata": {},
     "output_type": "execute_result"
    }
   ],
   "source": [
    ">>> import nltk\n",
    ">>> nltk.download('stopwords')"
   ]
  },
  {
   "cell_type": "code",
   "execution_count": 7,
   "id": "a11e98fa",
   "metadata": {},
   "outputs": [
    {
     "name": "stdout",
     "output_type": "stream",
     "text": [
      "170\n"
     ]
    }
   ],
   "source": [
    "words_total_number = doc.split()\n",
    "word_total_length = len(words_total_number)\n",
    "print(word_total_length)"
   ]
  },
  {
   "cell_type": "code",
   "execution_count": 8,
   "id": "ae8c50bf",
   "metadata": {},
   "outputs": [
    {
     "name": "stdout",
     "output_type": "stream",
     "text": [
      "7\n"
     ]
    }
   ],
   "source": [
    "sentence_total = tokenize.sent_tokenize(doc)\n",
    "total_sent_len = len(sentence_total)\n",
    "print(total_sent_len)"
   ]
  },
  {
   "cell_type": "code",
   "execution_count": 9,
   "id": "ade89020",
   "metadata": {},
   "outputs": [
    {
     "name": "stderr",
     "output_type": "stream",
     "text": [
      "[nltk_data] Downloading package punkt to\n",
      "[nltk_data]     /Users/bariskarapinar/nltk_data...\n",
      "[nltk_data]   Package punkt is already up-to-date!\n"
     ]
    },
    {
     "data": {
      "text/plain": [
       "True"
      ]
     },
     "execution_count": 9,
     "metadata": {},
     "output_type": "execute_result"
    }
   ],
   "source": [
    ">>> import nltk\n",
    ">>> nltk.download('punkt')"
   ]
  },
  {
   "cell_type": "code",
   "execution_count": 10,
   "id": "7ad0a71c",
   "metadata": {},
   "outputs": [
    {
     "name": "stdout",
     "output_type": "stream",
     "text": [
      "{'The': 0.011764705882352941, 'Seventh-day': 0.01764705882352941, 'Adventist': 0.01764705882352941, 'Church': 0.0058823529411764705, 'Tonga,': 0.011764705882352941, '(Tongan:': 0.0058823529411764705, 'Siasi': 0.0058823529411764705, 'ʻAhofitu)': 0.0058823529411764705, 'one': 0.0058823529411764705, 'smaller': 0.0058823529411764705, 'religious': 0.0058823529411764705, 'groupsin': 0.0058823529411764705, 'South': 0.011764705882352941, 'Pacific': 0.011764705882352941, 'island': 0.0058823529411764705, 'state': 0.0058823529411764705, 'Tonga': 0.011764705882352941, 'reported': 0.0058823529411764705, '3,853': 0.0058823529411764705, 'members': 0.0058823529411764705, 'June': 0.0058823529411764705, '30,': 0.0058823529411764705, '2020,': 0.0058823529411764705, 'started': 0.0058823529411764705, 'missionaries': 0.0058823529411764705, 'United': 0.0058823529411764705, 'States': 0.0058823529411764705, 'visited': 0.0058823529411764705, '1891': 0.0058823529411764705, 'settled': 0.0058823529411764705, '1895': 0.0058823529411764705, 'They': 0.0058823529411764705, 'set': 0.0058823529411764705, 'schools': 0.011764705882352941, 'made': 0.0058823529411764705, 'little': 0.0058823529411764705, 'progress': 0.0058823529411764705, 'conversion,': 0.0058823529411764705, 'handicapped': 0.0058823529411764705, 'dietary': 0.0058823529411764705, 'rules': 0.0058823529411764705, 'prohibited': 0.0058823529411764705, 'popular': 0.0058823529411764705, 'local': 0.0058823529411764705, 'foods': 0.0058823529411764705, 'pork': 0.0058823529411764705, 'shellfish,': 0.0058823529411764705, 'also': 0.0058823529411764705, 'banned': 0.0058823529411764705, 'tobacco,': 0.0058823529411764705, 'alcohol': 0.0058823529411764705, 'kavaThe': 0.0058823529411764705, 'church': 0.011764705882352941, 'revitalized': 0.0058823529411764705, '1912': 0.0058823529411764705, 'renewed': 0.0058823529411764705, 'emphasis': 0.0058823529411764705, 'evangelism': 0.0058823529411764705, 'In': 0.0058823529411764705, '1922': 0.0058823529411764705, 'resumed': 0.0058823529411764705, 'strategy': 0.0058823529411764705, 'providing': 0.0058823529411764705, 'education,': 0.0058823529411764705, 'resulted': 0.0058823529411764705, 'increase': 0.0058823529411764705, 'conversions': 0.0058823529411764705, 'After': 0.0058823529411764705, 'keeping': 0.0058823529411764705, 'low': 0.0058823529411764705, 'profile': 0.0058823529411764705, 'World': 0.0058823529411764705, 'War': 0.0058823529411764705, 'II': 0.0058823529411764705, '(1939–45),': 0.0058823529411764705, 'grew': 0.0058823529411764705, 'quickly': 0.0058823529411764705, '1950': 0.0058823529411764705, '1970s': 0.0058823529411764705, 'However,': 0.0058823529411764705, 'membership': 0.0058823529411764705, 'subsequently': 0.0058823529411764705, 'declined': 0.0058823529411764705, 'due': 0.0058823529411764705, 'emigration': 0.0058823529411764705, 'competition': 0.0058823529411764705, 'churches': 0.0058823529411764705, 'SDA': 0.0058823529411764705, 'part': 0.0058823529411764705, 'Division': 0.0058823529411764705, 'Adventists': 0.0058823529411764705, 'It': 0.0058823529411764705, 'operates': 0.0058823529411764705, 'several': 0.0058823529411764705, 'provides': 0.0058823529411764705, 'opportunities': 0.0058823529411764705, 'studies': 0.0058823529411764705, 'institutions': 0.0058823529411764705, 'abroad': 0.0058823529411764705}\n"
     ]
    }
   ],
   "source": [
    "tf_score = {}\n",
    "for each_word in words_total_number:\n",
    "    each_word = each_word.replace('.','')\n",
    "    if each_word not in stop_words:\n",
    "        if each_word in tf_score:\n",
    "            tf_score[each_word] += 1\n",
    "        else:\n",
    "            tf_score[each_word] = 1\n",
    "\n",
    "# Dividing by total_word_length for each dictionary element\n",
    "tf_score.update((x, y/int(word_total_length)) for x, y in tf_score.items())\n",
    "print(tf_score)"
   ]
  },
  {
   "cell_type": "code",
   "execution_count": 11,
   "id": "a8e974c7",
   "metadata": {},
   "outputs": [],
   "source": [
    "def sentence_check(word, sentences): \n",
    "    final = [all([w in x for w in word]) for x in sentences] \n",
    "    sent_len = [sentences[i] for i in range(0, len(final)) if final[i]]\n",
    "    return int(len(sent_len))"
   ]
  },
  {
   "cell_type": "code",
   "execution_count": 12,
   "id": "c80bd987",
   "metadata": {},
   "outputs": [
    {
     "name": "stdout",
     "output_type": "stream",
     "text": [
      "{'The': 0.5596157879354227, 'Seventh-day': 1.252762968495368, 'Adventist': 0.8472978603872037, 'Church': 1.9459101490553132, 'Tonga,': 0.8472978603872037, '(Tongan:': 1.9459101490553132, 'Siasi': 1.9459101490553132, 'ʻAhofitu)': 1.9459101490553132, 'one': 1.9459101490553132, 'smaller': 1.9459101490553132, 'religious': 1.9459101490553132, 'groupsin': 1.9459101490553132, 'South': 1.252762968495368, 'Pacific': 1.252762968495368, 'island': 1.9459101490553132, 'state': 1.9459101490553132, 'Tonga': 0.5596157879354227, 'reported': 1.9459101490553132, '3,853': 1.9459101490553132, 'members': 1.9459101490553132, 'June': 1.9459101490553132, '30,': 1.9459101490553132, '2020,': 1.9459101490553132, 'started': 1.9459101490553132, 'missionaries': 1.9459101490553132, 'United': 1.9459101490553132, 'States': 1.9459101490553132, 'visited': 1.9459101490553132, '1891': 1.9459101490553132, 'settled': 1.9459101490553132, '1895': 1.9459101490553132, 'They': 1.9459101490553132, 'set': 1.9459101490553132, 'schools': 0.15415067982725836, 'made': 1.9459101490553132, 'little': 1.9459101490553132, 'progress': 1.9459101490553132, 'conversion,': 1.9459101490553132, 'handicapped': 1.9459101490553132, 'dietary': 1.9459101490553132, 'rules': 1.9459101490553132, 'prohibited': 1.9459101490553132, 'popular': 1.9459101490553132, 'local': 1.9459101490553132, 'foods': 1.9459101490553132, 'pork': 1.9459101490553132, 'shellfish,': 1.9459101490553132, 'also': 1.9459101490553132, 'banned': 1.9459101490553132, 'tobacco,': 1.9459101490553132, 'alcohol': 1.9459101490553132, 'kavaThe': 1.9459101490553132, 'church': 0.0, 'revitalized': 1.9459101490553132, '1912': 1.9459101490553132, 'renewed': 1.9459101490553132, 'emphasis': 1.9459101490553132, 'evangelism': 1.9459101490553132, 'In': 1.9459101490553132, '1922': 1.9459101490553132, 'resumed': 1.9459101490553132, 'strategy': 1.9459101490553132, 'providing': 1.9459101490553132, 'education,': 1.9459101490553132, 'resulted': 1.9459101490553132, 'increase': 1.9459101490553132, 'conversions': 1.9459101490553132, 'After': 1.9459101490553132, 'keeping': 1.9459101490553132, 'low': 1.9459101490553132, 'profile': 1.9459101490553132, 'World': 1.9459101490553132, 'War': 1.9459101490553132, 'II': 1.9459101490553132, '(1939–45),': 1.9459101490553132, 'grew': 1.9459101490553132, 'quickly': 1.9459101490553132, '1950': 1.9459101490553132, '1970s': 1.9459101490553132, 'However,': 1.9459101490553132, 'membership': 1.9459101490553132, 'subsequently': 1.9459101490553132, 'declined': 1.9459101490553132, 'due': 1.9459101490553132, 'emigration': 1.9459101490553132, 'competition': 1.9459101490553132, 'churches': 1.9459101490553132, 'SDA': 1.9459101490553132, 'part': 1.9459101490553132, 'Division': 1.9459101490553132, 'Adventists': 1.9459101490553132, 'It': 1.9459101490553132, 'operates': 1.9459101490553132, 'several': 1.9459101490553132, 'provides': 1.9459101490553132, 'opportunities': 1.9459101490553132, 'studies': 1.9459101490553132, 'institutions': 1.9459101490553132, 'abroad': 1.9459101490553132}\n"
     ]
    }
   ],
   "source": [
    "idf_score = {}\n",
    "for each_word in words_total_number:\n",
    "    each_word = each_word.replace('.','')\n",
    "    if each_word not in stop_words:\n",
    "        if each_word in idf_score:\n",
    "            idf_score[each_word] = sentence_check(each_word, sentence_total)\n",
    "        else:\n",
    "            idf_score[each_word] = 1\n",
    "\n",
    "# log and divide\n",
    "idf_score.update((x, math.log(int(total_sent_len)/y)) for x, y in idf_score.items())\n",
    "\n",
    "print(idf_score)"
   ]
  },
  {
   "cell_type": "code",
   "execution_count": 13,
   "id": "01057ab9",
   "metadata": {},
   "outputs": [
    {
     "name": "stdout",
     "output_type": "stream",
     "text": [
      "{'The': 0.006583715152181443, 'Seventh-day': 0.022107581796977083, 'Adventist': 0.014952315183303594, 'Church': 0.011446530288560667, 'Tonga,': 0.009968210122202396, '(Tongan:': 0.011446530288560667, 'Siasi': 0.011446530288560667, 'ʻAhofitu)': 0.011446530288560667, 'one': 0.011446530288560667, 'smaller': 0.011446530288560667, 'religious': 0.011446530288560667, 'groupsin': 0.011446530288560667, 'South': 0.014738387864651389, 'Pacific': 0.014738387864651389, 'island': 0.011446530288560667, 'state': 0.011446530288560667, 'Tonga': 0.006583715152181443, 'reported': 0.011446530288560667, '3,853': 0.011446530288560667, 'members': 0.011446530288560667, 'June': 0.011446530288560667, '30,': 0.011446530288560667, '2020,': 0.011446530288560667, 'started': 0.011446530288560667, 'missionaries': 0.011446530288560667, 'United': 0.011446530288560667, 'States': 0.011446530288560667, 'visited': 0.011446530288560667, '1891': 0.011446530288560667, 'settled': 0.011446530288560667, '1895': 0.011446530288560667, 'They': 0.011446530288560667, 'set': 0.011446530288560667, 'schools': 0.0018135374097324511, 'made': 0.011446530288560667, 'little': 0.011446530288560667, 'progress': 0.011446530288560667, 'conversion,': 0.011446530288560667, 'handicapped': 0.011446530288560667, 'dietary': 0.011446530288560667, 'rules': 0.011446530288560667, 'prohibited': 0.011446530288560667, 'popular': 0.011446530288560667, 'local': 0.011446530288560667, 'foods': 0.011446530288560667, 'pork': 0.011446530288560667, 'shellfish,': 0.011446530288560667, 'also': 0.011446530288560667, 'banned': 0.011446530288560667, 'tobacco,': 0.011446530288560667, 'alcohol': 0.011446530288560667, 'kavaThe': 0.011446530288560667, 'church': 0.0, 'revitalized': 0.011446530288560667, '1912': 0.011446530288560667, 'renewed': 0.011446530288560667, 'emphasis': 0.011446530288560667, 'evangelism': 0.011446530288560667, 'In': 0.011446530288560667, '1922': 0.011446530288560667, 'resumed': 0.011446530288560667, 'strategy': 0.011446530288560667, 'providing': 0.011446530288560667, 'education,': 0.011446530288560667, 'resulted': 0.011446530288560667, 'increase': 0.011446530288560667, 'conversions': 0.011446530288560667, 'After': 0.011446530288560667, 'keeping': 0.011446530288560667, 'low': 0.011446530288560667, 'profile': 0.011446530288560667, 'World': 0.011446530288560667, 'War': 0.011446530288560667, 'II': 0.011446530288560667, '(1939–45),': 0.011446530288560667, 'grew': 0.011446530288560667, 'quickly': 0.011446530288560667, '1950': 0.011446530288560667, '1970s': 0.011446530288560667, 'However,': 0.011446530288560667, 'membership': 0.011446530288560667, 'subsequently': 0.011446530288560667, 'declined': 0.011446530288560667, 'due': 0.011446530288560667, 'emigration': 0.011446530288560667, 'competition': 0.011446530288560667, 'churches': 0.011446530288560667, 'SDA': 0.011446530288560667, 'part': 0.011446530288560667, 'Division': 0.011446530288560667, 'Adventists': 0.011446530288560667, 'It': 0.011446530288560667, 'operates': 0.011446530288560667, 'several': 0.011446530288560667, 'provides': 0.011446530288560667, 'opportunities': 0.011446530288560667, 'studies': 0.011446530288560667, 'institutions': 0.011446530288560667, 'abroad': 0.011446530288560667}\n"
     ]
    }
   ],
   "source": [
    "tf_idf_score = {key: tf_score[key] * idf_score.get(key, 0) for key in tf_score.keys()}\n",
    "print(tf_idf_score)"
   ]
  },
  {
   "cell_type": "code",
   "execution_count": 14,
   "id": "f455264d",
   "metadata": {},
   "outputs": [],
   "source": [
    "def top_n(dict_elem, n):\n",
    "    result = dict(sorted(dict_elem.items(), key = itemgetter(1), reverse = True)[:n]) \n",
    "    return result"
   ]
  },
  {
   "cell_type": "code",
   "execution_count": 15,
   "id": "7039aac5",
   "metadata": {},
   "outputs": [
    {
     "name": "stdout",
     "output_type": "stream",
     "text": [
      "{'Seventh-day': 0.022107581796977083, 'Adventist': 0.014952315183303594, 'South': 0.014738387864651389, 'Pacific': 0.014738387864651389, 'Church': 0.011446530288560667, '(Tongan:': 0.011446530288560667}\n"
     ]
    }
   ],
   "source": [
    "print(top_n(tf_idf_score, 6))"
   ]
  },
  {
   "cell_type": "code",
   "execution_count": null,
   "id": "e9a50446",
   "metadata": {},
   "outputs": [],
   "source": []
  }
 ],
 "metadata": {
  "kernelspec": {
   "display_name": "Python 3 (ipykernel)",
   "language": "python",
   "name": "python3"
  },
  "language_info": {
   "codemirror_mode": {
    "name": "ipython",
    "version": 3
   },
   "file_extension": ".py",
   "mimetype": "text/x-python",
   "name": "python",
   "nbconvert_exporter": "python",
   "pygments_lexer": "ipython3",
   "version": "3.8.2"
  }
 },
 "nbformat": 4,
 "nbformat_minor": 5
}
