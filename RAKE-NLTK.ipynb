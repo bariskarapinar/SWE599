{
 "cells": [
  {
   "cell_type": "code",
   "execution_count": 1,
   "id": "1fa85ec1",
   "metadata": {},
   "outputs": [
    {
     "name": "stdout",
     "output_type": "stream",
     "text": [
      "\u001b[33mWARNING: The directory '/Users/bariskarapinar/Library/Caches/pip' or its parent directory is not owned or is not writable by the current user. The cache has been disabled. Check the permissions and owner of that directory. If executing pip with sudo, you should use sudo's -H flag.\u001b[0m\u001b[33m\n",
      "\u001b[0mCollecting rake_nltk\n",
      "  Downloading rake_nltk-1.0.6-py3-none-any.whl (9.1 kB)\n",
      "Requirement already satisfied: nltk<4.0.0,>=3.6.2 in /opt/homebrew/lib/python3.10/site-packages (from rake_nltk) (3.8)\n",
      "Requirement already satisfied: click in /opt/homebrew/lib/python3.10/site-packages (from nltk<4.0.0,>=3.6.2->rake_nltk) (8.1.3)\n",
      "Requirement already satisfied: regex>=2021.8.3 in /opt/homebrew/lib/python3.10/site-packages (from nltk<4.0.0,>=3.6.2->rake_nltk) (2022.10.31)\n",
      "Requirement already satisfied: joblib in /opt/homebrew/lib/python3.10/site-packages (from nltk<4.0.0,>=3.6.2->rake_nltk) (1.2.0)\n",
      "Requirement already satisfied: tqdm in /opt/homebrew/lib/python3.10/site-packages (from nltk<4.0.0,>=3.6.2->rake_nltk) (4.64.1)\n",
      "Installing collected packages: rake_nltk\n",
      "Successfully installed rake_nltk-1.0.6\n"
     ]
    }
   ],
   "source": [
    "!pip3 install rake_nltk"
   ]
  },
  {
   "cell_type": "code",
   "execution_count": 2,
   "id": "651eb077",
   "metadata": {},
   "outputs": [
    {
     "name": "stdout",
     "output_type": "stream",
     "text": [
      "[(16.0, 'prohibited popular local foods'), (16.0, 'membership subsequently declined due'), (16.0, '1939 – 45 ),'), (15.0, 'south pacific island state'), (10.0, 'south pacific division'), (9.0, 'world war ii'), (9.0, 'smaller religious groups'), (9.0, 'also banned tobacco'), (9.0, 'adventist institutions abroad'), (8.666666666666666, 'day adventist missionaries'), (8.333333333333334, 'church grew quickly'), (8.0, 'operates several schools'), (8.0, 'day adventist church'), (4.666666666666666, 'day adventists'), (4.0, 'united states'), (4.0, 'siasi ʻahofitu'), (4.0, 'reported 3'), (4.0, 'renewed emphasis'), (4.0, 'providing education'), (4.0, 'provides opportunities'), (4.0, 'low profile'), (4.0, 'little progress'), (4.0, 'june 30'), (4.0, 'dietary rules'), (4.0, '853 members'), (2.3333333333333335, 'church'), (2.0, 'schools'), (1.0, 'visited'), (1.0, 'tongan'), (1.0, 'tonga'), (1.0, 'tonga'), (1.0, 'tonga'), (1.0, 'tonga'), (1.0, 'studies'), (1.0, 'strategy'), (1.0, 'started'), (1.0, 'shellfish'), (1.0, 'seventh'), (1.0, 'seventh'), (1.0, 'seventh'), (1.0, 'settled'), (1.0, 'set'), (1.0, 'sda'), (1.0, 'revitalized'), (1.0, 'resumed'), (1.0, 'resulted'), (1.0, 'pork'), (1.0, 'part'), (1.0, 'one'), (1.0, 'made'), (1.0, 'keeping'), (1.0, 'kava'), (1.0, 'increase'), (1.0, 'however'), (1.0, 'handicapped'), (1.0, 'evangelism'), (1.0, 'emigration'), (1.0, 'conversions'), (1.0, 'conversion'), (1.0, 'competition'), (1.0, 'churches'), (1.0, 'alcohol'), (1.0, '2020'), (1.0, '1970s'), (1.0, '1950'), (1.0, '1922'), (1.0, '1912'), (1.0, '1895'), (1.0, '1891')]\n"
     ]
    }
   ],
   "source": [
    "from rake_nltk import Rake\n",
    "rake = Rake()\n",
    "\n",
    "doc = 'The Seventh-day Adventist Church in Tonga, (Tongan: Siasi ʻAhofitu)\\\n",
    "is one of the smaller religious groups in the South Pacific island \\\n",
    "state of Tonga with a reported 3,853 members as of June 30, 2020, \\\n",
    "started by Seventh-day Adventist missionaries from the United States \\\n",
    "who visited in 1891 and settled in 1895. They set up schools but made \\\n",
    "very little progress in conversion, handicapped by dietary rules that \\\n",
    "prohibited popular local foods such as pork and shellfish, and that \\\n",
    "also banned tobacco, alcohol and kava. The church was revitalized \\\n",
    "in 1912 with renewed emphasis on evangelism. In 1922 it resumed its \\\n",
    "strategy of providing education, which resulted in an increase in \\\n",
    "conversions. After keeping a low profile during World War II (1939–45),\\\n",
    "the church grew quickly from 1950 to the 1970s. However, membership \\\n",
    "subsequently declined due to emigration and competition with other \\\n",
    "churches. The SDA of Tonga is part of the South Pacific Division of \\\n",
    "Seventh-day Adventists. It operates several schools in Tonga, \\\n",
    "and provides opportunities for further studies at \\\n",
    "Adventist institutions abroad.'\n",
    "\n",
    "rake.extract_keywords_from_text(doc)\n",
    "\n",
    "print(rake.get_ranked_phrases_with_scores())"
   ]
  },
  {
   "cell_type": "code",
   "execution_count": null,
   "id": "4fea71d6",
   "metadata": {},
   "outputs": [],
   "source": []
  }
 ],
 "metadata": {
  "kernelspec": {
   "display_name": "Python 3 (ipykernel)",
   "language": "python",
   "name": "python3"
  },
  "language_info": {
   "codemirror_mode": {
    "name": "ipython",
    "version": 3
   },
   "file_extension": ".py",
   "mimetype": "text/x-python",
   "name": "python",
   "nbconvert_exporter": "python",
   "pygments_lexer": "ipython3",
   "version": "3.8.2"
  }
 },
 "nbformat": 4,
 "nbformat_minor": 5
}
