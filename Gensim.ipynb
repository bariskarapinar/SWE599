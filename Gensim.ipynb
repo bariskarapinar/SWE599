{
 "cells": [
  {
   "cell_type": "code",
   "execution_count": 1,
   "id": "b975cecb",
   "metadata": {},
   "outputs": [
    {
     "name": "stdout",
     "output_type": "stream",
     "text": [
      "\u001b[33mWARNING: The directory '/Users/bariskarapinar/Library/Caches/pip' or its parent directory is not owned or is not writable by the current user. The cache has been disabled. Check the permissions and owner of that directory. If executing pip with sudo, you should use sudo's -H flag.\u001b[0m\u001b[33m\n",
      "\u001b[0mDefaulting to user installation because normal site-packages is not writeable\n",
      "Requirement already satisfied: gensim==3.6.0 in /Users/bariskarapinar/Library/Python/3.8/lib/python/site-packages (3.6.0)\n",
      "Requirement already satisfied: smart-open>=1.2.1 in /Users/bariskarapinar/Library/Python/3.8/lib/python/site-packages (from gensim==3.6.0) (6.2.0)\n",
      "Requirement already satisfied: scipy>=0.18.1 in /Users/bariskarapinar/Library/Python/3.8/lib/python/site-packages (from gensim==3.6.0) (1.9.3)\n",
      "Requirement already satisfied: numpy>=1.11.3 in /Users/bariskarapinar/Library/Python/3.8/lib/python/site-packages (from gensim==3.6.0) (1.23.5)\n",
      "Requirement already satisfied: six>=1.5.0 in /Library/Developer/CommandLineTools/Library/Frameworks/Python3.framework/Versions/3.8/lib/python3.8/site-packages (from gensim==3.6.0) (1.15.0)\n",
      "Note: you may need to restart the kernel to use updated packages.\n"
     ]
    }
   ],
   "source": [
    "pip install gensim==3.6.0"
   ]
  },
  {
   "cell_type": "code",
   "execution_count": 2,
   "id": "9d2aeb18",
   "metadata": {},
   "outputs": [],
   "source": [
    "from gensim.summarization import keywords"
   ]
  },
  {
   "cell_type": "code",
   "execution_count": 3,
   "id": "cd194413",
   "metadata": {},
   "outputs": [],
   "source": [
    "doc = 'The Seventh-day Adventist Church in Tonga, (Tongan: Siasi ʻAhofitu)\\\n",
    "is one of the smaller religious groups in the South Pacific island \\\n",
    "state of Tonga with a reported 3,853 members as of June 30, 2020, \\\n",
    "started by Seventh-day Adventist missionaries from the United States \\\n",
    "who visited in 1891 and settled in 1895. They set up schools but made \\\n",
    "very little progress in conversion, handicapped by dietary rules that \\\n",
    "prohibited popular local foods such as pork and shellfish, and that \\\n",
    "also banned tobacco, alcohol and kava. The church was revitalized \\\n",
    "in 1912 with renewed emphasis on evangelism. In 1922 it resumed its \\\n",
    "strategy of providing education, which resulted in an increase in \\\n",
    "conversions. After keeping a low profile during World War II (1939–45),\\\n",
    "the church grew quickly from 1950 to the 1970s. However, membership \\\n",
    "subsequently declined due to emigration and competition with other \\\n",
    "churches. The SDA of Tonga is part of the South Pacific Division of \\\n",
    "Seventh-day Adventists. It operates several schools in Tonga, \\\n",
    "and provides opportunities for further studies at \\\n",
    "Adventist institutions abroad.'"
   ]
  },
  {
   "cell_type": "code",
   "execution_count": 4,
   "id": "ee7eb20a",
   "metadata": {},
   "outputs": [
    {
     "name": "stdout",
     "output_type": "stream",
     "text": [
      "adventist\n",
      "adventists\n",
      "pacific\n",
      "subsequently\n",
      "religious\n",
      "tobacco\n",
      "providing\n",
      "provides\n",
      "siasi\n",
      "tongan\n",
      "popular local\n"
     ]
    }
   ],
   "source": [
    "print(keywords(doc, words=10))"
   ]
  },
  {
   "cell_type": "code",
   "execution_count": null,
   "id": "80e0e4c6",
   "metadata": {},
   "outputs": [],
   "source": []
  }
 ],
 "metadata": {
  "kernelspec": {
   "display_name": "Python 3 (ipykernel)",
   "language": "python",
   "name": "python3"
  },
  "language_info": {
   "codemirror_mode": {
    "name": "ipython",
    "version": 3
   },
   "file_extension": ".py",
   "mimetype": "text/x-python",
   "name": "python",
   "nbconvert_exporter": "python",
   "pygments_lexer": "ipython3",
   "version": "3.8.2"
  }
 },
 "nbformat": 4,
 "nbformat_minor": 5
}
